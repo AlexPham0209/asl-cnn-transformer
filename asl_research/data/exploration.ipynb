{
 "cells": [
  {
   "cell_type": "markdown",
   "id": "68693dfd",
   "metadata": {},
   "source": [
    "## Import Data"
   ]
  },
  {
   "cell_type": "code",
   "execution_count": 1,
   "id": "369d0c2b",
   "metadata": {},
   "outputs": [],
   "source": [
    "import gzip\n",
    "import os\n",
    "import pickle\n",
    "import pandas as pd\n",
    "import matplotlib.pyplot as plt\n",
    "import cv2\n",
    "from collections import Counter"
   ]
  },
  {
   "cell_type": "code",
   "execution_count": 4,
   "id": "532155fb",
   "metadata": {},
   "outputs": [],
   "source": [
    "DATA_PATH = os.path.join(\"data\", \"processed\", \"phoenixweather2014t\")\n",
    "\n",
    "try:\n",
    "    with gzip.open(os.path.join(DATA_PATH, 'phoenix14t.pami0.train.annotations_only.gzip'), \"rb\") as f:\n",
    "        annotations = pickle.load(f)\n",
    "except:\n",
    "    print(\"Error: Invalid path\")"
   ]
  },
  {
   "cell_type": "markdown",
   "id": "ba853f09",
   "metadata": {},
   "source": [
    "### Convert to Pandas DataFrame"
   ]
  },
  {
   "cell_type": "code",
   "execution_count": 5,
   "id": "1310e7c8",
   "metadata": {},
   "outputs": [],
   "source": [
    "VIDEO_PATH = os.path.join(DATA_PATH, \"videos_phoenix\", \"videos\")\n",
    "names = list(\n",
    "    map(\n",
    "        lambda x: os.path.join(VIDEO_PATH, *x.split(\"/\")) + \".mp4\",\n",
    "        [key[\"name\"] for key in annotations],\n",
    "    )\n",
    ")\n",
    "glosses = [key[\"gloss\"] for key in annotations]\n",
    "texts = [key[\"text\"] for key in annotations]\n",
    "\n",
    "data = {\"names\": names, \"glosses\": glosses, \"texts\": texts}\n",
    "\n",
    "df = pd.DataFrame(data)\n"
   ]
  },
  {
   "cell_type": "code",
   "execution_count": 21,
   "id": "7fa55079",
   "metadata": {},
   "outputs": [
    {
     "data": {
      "text/plain": [
       "(7096, 3)"
      ]
     },
     "execution_count": 21,
     "metadata": {},
     "output_type": "execute_result"
    }
   ],
   "source": [
    "df.shape"
   ]
  },
  {
   "cell_type": "code",
   "execution_count": 22,
   "id": "df046af9",
   "metadata": {},
   "outputs": [
    {
     "data": {
      "text/html": [
       "<div>\n",
       "<style scoped>\n",
       "    .dataframe tbody tr th:only-of-type {\n",
       "        vertical-align: middle;\n",
       "    }\n",
       "\n",
       "    .dataframe tbody tr th {\n",
       "        vertical-align: top;\n",
       "    }\n",
       "\n",
       "    .dataframe thead th {\n",
       "        text-align: right;\n",
       "    }\n",
       "</style>\n",
       "<table border=\"1\" class=\"dataframe\">\n",
       "  <thead>\n",
       "    <tr style=\"text-align: right;\">\n",
       "      <th></th>\n",
       "      <th>names</th>\n",
       "      <th>glosses</th>\n",
       "      <th>texts</th>\n",
       "    </tr>\n",
       "  </thead>\n",
       "  <tbody>\n",
       "    <tr>\n",
       "      <th>0</th>\n",
       "      <td>data\\processed\\phoenixweather2014t\\videos_phoe...</td>\n",
       "      <td>JETZT WETTER MORGEN DONNERSTAG ZWOELF FEBRUAR</td>\n",
       "      <td>und nun die wettervorhersage für morgen donner...</td>\n",
       "    </tr>\n",
       "    <tr>\n",
       "      <th>1</th>\n",
       "      <td>data\\processed\\phoenixweather2014t\\videos_phoe...</td>\n",
       "      <td>ORT REGEN DURCH REGEN KOENNEN UEBERSCHWEMMUNG ...</td>\n",
       "      <td>mancherorts regnet es auch länger und ergiebig...</td>\n",
       "    </tr>\n",
       "    <tr>\n",
       "      <th>2</th>\n",
       "      <td>data\\processed\\phoenixweather2014t\\videos_phoe...</td>\n",
       "      <td>NORDWEST HEUTE NACHT TROCKEN BLEIBEN SUEDWEST ...</td>\n",
       "      <td>im nordwesten bleibt es heute nacht meist troc...</td>\n",
       "    </tr>\n",
       "    <tr>\n",
       "      <th>3</th>\n",
       "      <td>data\\processed\\phoenixweather2014t\\videos_phoe...</td>\n",
       "      <td>TAGSUEBER OFT REGEN GEWITTER KOENNEN MANCHMAL ...</td>\n",
       "      <td>auch am tag gibt es verbreitet zum teil kräfti...</td>\n",
       "    </tr>\n",
       "    <tr>\n",
       "      <th>4</th>\n",
       "      <td>data\\processed\\phoenixweather2014t\\videos_phoe...</td>\n",
       "      <td>WOLKE LOCH SPEZIELL NORDWEST</td>\n",
       "      <td>größere wolkenlücken finden sich vor allem im ...</td>\n",
       "    </tr>\n",
       "  </tbody>\n",
       "</table>\n",
       "</div>"
      ],
      "text/plain": [
       "                                               names  \\\n",
       "0  data\\processed\\phoenixweather2014t\\videos_phoe...   \n",
       "1  data\\processed\\phoenixweather2014t\\videos_phoe...   \n",
       "2  data\\processed\\phoenixweather2014t\\videos_phoe...   \n",
       "3  data\\processed\\phoenixweather2014t\\videos_phoe...   \n",
       "4  data\\processed\\phoenixweather2014t\\videos_phoe...   \n",
       "\n",
       "                                             glosses  \\\n",
       "0      JETZT WETTER MORGEN DONNERSTAG ZWOELF FEBRUAR   \n",
       "1  ORT REGEN DURCH REGEN KOENNEN UEBERSCHWEMMUNG ...   \n",
       "2  NORDWEST HEUTE NACHT TROCKEN BLEIBEN SUEDWEST ...   \n",
       "3  TAGSUEBER OFT REGEN GEWITTER KOENNEN MANCHMAL ...   \n",
       "4                       WOLKE LOCH SPEZIELL NORDWEST   \n",
       "\n",
       "                                               texts  \n",
       "0  und nun die wettervorhersage für morgen donner...  \n",
       "1  mancherorts regnet es auch länger und ergiebig...  \n",
       "2  im nordwesten bleibt es heute nacht meist troc...  \n",
       "3  auch am tag gibt es verbreitet zum teil kräfti...  \n",
       "4  größere wolkenlücken finden sich vor allem im ...  "
      ]
     },
     "execution_count": 22,
     "metadata": {},
     "output_type": "execute_result"
    }
   ],
   "source": [
    "df.head()"
   ]
  },
  {
   "cell_type": "code",
   "execution_count": 23,
   "id": "d3b18eb5",
   "metadata": {},
   "outputs": [
    {
     "data": {
      "text/html": [
       "<div>\n",
       "<style scoped>\n",
       "    .dataframe tbody tr th:only-of-type {\n",
       "        vertical-align: middle;\n",
       "    }\n",
       "\n",
       "    .dataframe tbody tr th {\n",
       "        vertical-align: top;\n",
       "    }\n",
       "\n",
       "    .dataframe thead th {\n",
       "        text-align: right;\n",
       "    }\n",
       "</style>\n",
       "<table border=\"1\" class=\"dataframe\">\n",
       "  <thead>\n",
       "    <tr style=\"text-align: right;\">\n",
       "      <th></th>\n",
       "      <th>names</th>\n",
       "      <th>glosses</th>\n",
       "      <th>texts</th>\n",
       "    </tr>\n",
       "  </thead>\n",
       "  <tbody>\n",
       "    <tr>\n",
       "      <th>7091</th>\n",
       "      <td>data\\processed\\phoenixweather2014t\\videos_phoe...</td>\n",
       "      <td>DIENSTAG WIND STARK REGEN KOMMEN</td>\n",
       "      <td>am dienstag wird es sehr windig und es regnet ...</td>\n",
       "    </tr>\n",
       "    <tr>\n",
       "      <th>7092</th>\n",
       "      <td>data\\processed\\phoenixweather2014t\\videos_phoe...</td>\n",
       "      <td>MITTWOCH WIND MEHR REGEN</td>\n",
       "      <td>am mittwoch legt der wind noch zu und es regne...</td>\n",
       "    </tr>\n",
       "    <tr>\n",
       "      <th>7093</th>\n",
       "      <td>data\\processed\\phoenixweather2014t\\videos_phoe...</td>\n",
       "      <td>SUED REGION SONNE AUCH DABEI</td>\n",
       "      <td>im süden zeigt sich aber auch die sonne .</td>\n",
       "    </tr>\n",
       "    <tr>\n",
       "      <th>7094</th>\n",
       "      <td>data\\processed\\phoenixweather2014t\\videos_phoe...</td>\n",
       "      <td>DONNERSTAG FREUNDLICH SONNE DANN SPAETER KOMME...</td>\n",
       "      <td>der donnerstag beginnt oft freundlich später z...</td>\n",
       "    </tr>\n",
       "    <tr>\n",
       "      <th>7095</th>\n",
       "      <td>data\\processed\\phoenixweather2014t\\videos_phoe...</td>\n",
       "      <td>BLEIBEN WIND</td>\n",
       "      <td>es bleibt windig .</td>\n",
       "    </tr>\n",
       "  </tbody>\n",
       "</table>\n",
       "</div>"
      ],
      "text/plain": [
       "                                                  names  \\\n",
       "7091  data\\processed\\phoenixweather2014t\\videos_phoe...   \n",
       "7092  data\\processed\\phoenixweather2014t\\videos_phoe...   \n",
       "7093  data\\processed\\phoenixweather2014t\\videos_phoe...   \n",
       "7094  data\\processed\\phoenixweather2014t\\videos_phoe...   \n",
       "7095  data\\processed\\phoenixweather2014t\\videos_phoe...   \n",
       "\n",
       "                                                glosses  \\\n",
       "7091                   DIENSTAG WIND STARK REGEN KOMMEN   \n",
       "7092                           MITTWOCH WIND MEHR REGEN   \n",
       "7093                       SUED REGION SONNE AUCH DABEI   \n",
       "7094  DONNERSTAG FREUNDLICH SONNE DANN SPAETER KOMME...   \n",
       "7095                                       BLEIBEN WIND   \n",
       "\n",
       "                                                  texts  \n",
       "7091  am dienstag wird es sehr windig und es regnet ...  \n",
       "7092  am mittwoch legt der wind noch zu und es regne...  \n",
       "7093          im süden zeigt sich aber auch die sonne .  \n",
       "7094  der donnerstag beginnt oft freundlich später z...  \n",
       "7095                                 es bleibt windig .  "
      ]
     },
     "execution_count": 23,
     "metadata": {},
     "output_type": "execute_result"
    }
   ],
   "source": [
    "df.tail()"
   ]
  },
  {
   "cell_type": "code",
   "execution_count": 6,
   "id": "201fd253",
   "metadata": {},
   "outputs": [
    {
     "data": {
      "text/html": [
       "<div>\n",
       "<style scoped>\n",
       "    .dataframe tbody tr th:only-of-type {\n",
       "        vertical-align: middle;\n",
       "    }\n",
       "\n",
       "    .dataframe tbody tr th {\n",
       "        vertical-align: top;\n",
       "    }\n",
       "\n",
       "    .dataframe thead th {\n",
       "        text-align: right;\n",
       "    }\n",
       "</style>\n",
       "<table border=\"1\" class=\"dataframe\">\n",
       "  <thead>\n",
       "    <tr style=\"text-align: right;\">\n",
       "      <th></th>\n",
       "      <th>names</th>\n",
       "      <th>glosses</th>\n",
       "      <th>texts</th>\n",
       "    </tr>\n",
       "  </thead>\n",
       "  <tbody>\n",
       "    <tr>\n",
       "      <th>count</th>\n",
       "      <td>7096</td>\n",
       "      <td>7096</td>\n",
       "      <td>7096</td>\n",
       "    </tr>\n",
       "    <tr>\n",
       "      <th>unique</th>\n",
       "      <td>7096</td>\n",
       "      <td>6900</td>\n",
       "      <td>6853</td>\n",
       "    </tr>\n",
       "    <tr>\n",
       "      <th>top</th>\n",
       "      <td>data\\processed\\phoenixweather2014t\\videos_phoe...</td>\n",
       "      <td>SCHOEN ABEND TSCHUESS</td>\n",
       "      <td>guten abend liebe zuschauer .</td>\n",
       "    </tr>\n",
       "    <tr>\n",
       "      <th>freq</th>\n",
       "      <td>1</td>\n",
       "      <td>22</td>\n",
       "      <td>63</td>\n",
       "    </tr>\n",
       "  </tbody>\n",
       "</table>\n",
       "</div>"
      ],
      "text/plain": [
       "                                                    names  \\\n",
       "count                                                7096   \n",
       "unique                                               7096   \n",
       "top     data\\processed\\phoenixweather2014t\\videos_phoe...   \n",
       "freq                                                    1   \n",
       "\n",
       "                      glosses                          texts  \n",
       "count                    7096                           7096  \n",
       "unique                   6900                           6853  \n",
       "top     SCHOEN ABEND TSCHUESS  guten abend liebe zuschauer .  \n",
       "freq                       22                             63  "
      ]
     },
     "execution_count": 6,
     "metadata": {},
     "output_type": "execute_result"
    }
   ],
   "source": [
    "df.describe()"
   ]
  },
  {
   "cell_type": "markdown",
   "id": "a8f39278",
   "metadata": {},
   "source": [
    "# Univariate Analysis"
   ]
  },
  {
   "cell_type": "markdown",
   "id": "390ab653",
   "metadata": {},
   "source": [
    "Creating lists with length of glosses sequences, length of German sentences, and number of frames respectively."
   ]
  },
  {
   "cell_type": "code",
   "execution_count": 10,
   "id": "868b9168",
   "metadata": {},
   "outputs": [],
   "source": [
    "def with_opencv(filename):\n",
    "    video = cv2.VideoCapture(filename)\n",
    "    frame_count = video.get(cv2.CAP_PROP_FRAME_COUNT)\n",
    "\n",
    "    return frame_count\n",
    "\n",
    "gloss_lengths = list(map(lambda x: len(x.split()), list(df['glosses'])))\n",
    "text_lengths = list(map(lambda x: len(x.split()), list(df['texts'])))\n",
    "frames = list(map(lambda x: with_opencv(x), list(df['names'])))"
   ]
  },
  {
   "cell_type": "markdown",
   "id": "e62dcdec",
   "metadata": {},
   "source": [
    "Descriptive statistics about each list"
   ]
  },
  {
   "cell_type": "code",
   "execution_count": 11,
   "id": "2c29db8c",
   "metadata": {},
   "outputs": [
    {
     "data": {
      "text/html": [
       "<div>\n",
       "<style scoped>\n",
       "    .dataframe tbody tr th:only-of-type {\n",
       "        vertical-align: middle;\n",
       "    }\n",
       "\n",
       "    .dataframe tbody tr th {\n",
       "        vertical-align: top;\n",
       "    }\n",
       "\n",
       "    .dataframe thead th {\n",
       "        text-align: right;\n",
       "    }\n",
       "</style>\n",
       "<table border=\"1\" class=\"dataframe\">\n",
       "  <thead>\n",
       "    <tr style=\"text-align: right;\">\n",
       "      <th></th>\n",
       "      <th>Gloss Lengths</th>\n",
       "    </tr>\n",
       "  </thead>\n",
       "  <tbody>\n",
       "    <tr>\n",
       "      <th>count</th>\n",
       "      <td>7096.000000</td>\n",
       "    </tr>\n",
       "    <tr>\n",
       "      <th>mean</th>\n",
       "      <td>7.785654</td>\n",
       "    </tr>\n",
       "    <tr>\n",
       "      <th>std</th>\n",
       "      <td>3.436425</td>\n",
       "    </tr>\n",
       "    <tr>\n",
       "      <th>min</th>\n",
       "      <td>1.000000</td>\n",
       "    </tr>\n",
       "    <tr>\n",
       "      <th>25%</th>\n",
       "      <td>5.000000</td>\n",
       "    </tr>\n",
       "    <tr>\n",
       "      <th>50%</th>\n",
       "      <td>7.000000</td>\n",
       "    </tr>\n",
       "    <tr>\n",
       "      <th>75%</th>\n",
       "      <td>10.000000</td>\n",
       "    </tr>\n",
       "    <tr>\n",
       "      <th>max</th>\n",
       "      <td>30.000000</td>\n",
       "    </tr>\n",
       "  </tbody>\n",
       "</table>\n",
       "</div>"
      ],
      "text/plain": [
       "       Gloss Lengths\n",
       "count    7096.000000\n",
       "mean        7.785654\n",
       "std         3.436425\n",
       "min         1.000000\n",
       "25%         5.000000\n",
       "50%         7.000000\n",
       "75%        10.000000\n",
       "max        30.000000"
      ]
     },
     "metadata": {},
     "output_type": "display_data"
    },
    {
     "data": {
      "text/html": [
       "<div>\n",
       "<style scoped>\n",
       "    .dataframe tbody tr th:only-of-type {\n",
       "        vertical-align: middle;\n",
       "    }\n",
       "\n",
       "    .dataframe tbody tr th {\n",
       "        vertical-align: top;\n",
       "    }\n",
       "\n",
       "    .dataframe thead th {\n",
       "        text-align: right;\n",
       "    }\n",
       "</style>\n",
       "<table border=\"1\" class=\"dataframe\">\n",
       "  <thead>\n",
       "    <tr style=\"text-align: right;\">\n",
       "      <th></th>\n",
       "      <th>Text Lengths</th>\n",
       "    </tr>\n",
       "  </thead>\n",
       "  <tbody>\n",
       "    <tr>\n",
       "      <th>count</th>\n",
       "      <td>7096.000000</td>\n",
       "    </tr>\n",
       "    <tr>\n",
       "      <th>mean</th>\n",
       "      <td>14.962937</td>\n",
       "    </tr>\n",
       "    <tr>\n",
       "      <th>std</th>\n",
       "      <td>5.983502</td>\n",
       "    </tr>\n",
       "    <tr>\n",
       "      <th>min</th>\n",
       "      <td>2.000000</td>\n",
       "    </tr>\n",
       "    <tr>\n",
       "      <th>25%</th>\n",
       "      <td>11.000000</td>\n",
       "    </tr>\n",
       "    <tr>\n",
       "      <th>50%</th>\n",
       "      <td>14.000000</td>\n",
       "    </tr>\n",
       "    <tr>\n",
       "      <th>75%</th>\n",
       "      <td>18.000000</td>\n",
       "    </tr>\n",
       "    <tr>\n",
       "      <th>max</th>\n",
       "      <td>53.000000</td>\n",
       "    </tr>\n",
       "  </tbody>\n",
       "</table>\n",
       "</div>"
      ],
      "text/plain": [
       "       Text Lengths\n",
       "count   7096.000000\n",
       "mean      14.962937\n",
       "std        5.983502\n",
       "min        2.000000\n",
       "25%       11.000000\n",
       "50%       14.000000\n",
       "75%       18.000000\n",
       "max       53.000000"
      ]
     },
     "metadata": {},
     "output_type": "display_data"
    },
    {
     "data": {
      "text/html": [
       "<div>\n",
       "<style scoped>\n",
       "    .dataframe tbody tr th:only-of-type {\n",
       "        vertical-align: middle;\n",
       "    }\n",
       "\n",
       "    .dataframe tbody tr th {\n",
       "        vertical-align: top;\n",
       "    }\n",
       "\n",
       "    .dataframe thead th {\n",
       "        text-align: right;\n",
       "    }\n",
       "</style>\n",
       "<table border=\"1\" class=\"dataframe\">\n",
       "  <thead>\n",
       "    <tr style=\"text-align: right;\">\n",
       "      <th></th>\n",
       "      <th>Frames</th>\n",
       "    </tr>\n",
       "  </thead>\n",
       "  <tbody>\n",
       "    <tr>\n",
       "      <th>count</th>\n",
       "      <td>7096.000000</td>\n",
       "    </tr>\n",
       "    <tr>\n",
       "      <th>mean</th>\n",
       "      <td>116.594419</td>\n",
       "    </tr>\n",
       "    <tr>\n",
       "      <th>std</th>\n",
       "      <td>49.859426</td>\n",
       "    </tr>\n",
       "    <tr>\n",
       "      <th>min</th>\n",
       "      <td>16.000000</td>\n",
       "    </tr>\n",
       "    <tr>\n",
       "      <th>25%</th>\n",
       "      <td>83.000000</td>\n",
       "    </tr>\n",
       "    <tr>\n",
       "      <th>50%</th>\n",
       "      <td>112.000000</td>\n",
       "    </tr>\n",
       "    <tr>\n",
       "      <th>75%</th>\n",
       "      <td>144.000000</td>\n",
       "    </tr>\n",
       "    <tr>\n",
       "      <th>max</th>\n",
       "      <td>475.000000</td>\n",
       "    </tr>\n",
       "  </tbody>\n",
       "</table>\n",
       "</div>"
      ],
      "text/plain": [
       "            Frames\n",
       "count  7096.000000\n",
       "mean    116.594419\n",
       "std      49.859426\n",
       "min      16.000000\n",
       "25%      83.000000\n",
       "50%     112.000000\n",
       "75%     144.000000\n",
       "max     475.000000"
      ]
     },
     "metadata": {},
     "output_type": "display_data"
    }
   ],
   "source": [
    "gloss_df = pd.DataFrame(gloss_lengths).rename(columns={0: 'Gloss Lengths'})\n",
    "text_df = pd.DataFrame(text_lengths).rename(columns={0: 'Text Lengths'})\n",
    "frame_df = pd.DataFrame(frames).rename(columns={0: 'Frames'})\n",
    "\n",
    "display(gloss_df.describe(include='all'))\n",
    "display(text_df.describe(include='all'))\n",
    "display(frame_df.describe(include='all'))"
   ]
  },
  {
   "cell_type": "markdown",
   "id": "fc98cb09",
   "metadata": {},
   "source": [
    "Histogram"
   ]
  },
  {
   "cell_type": "code",
   "execution_count": 12,
   "id": "6121d3ee",
   "metadata": {},
   "outputs": [
    {
     "data": {
      "image/png": "[encoded data removed]",
      "text/plain": [
       "<Figure size 1500x500 with 3 Axes>"
      ]
     },
     "metadata": {},
     "output_type": "display_data"
    }
   ],
   "source": [
    "fig, axis = plt.subplots(1, 3, figsize=(15, 5))\n",
    "\n",
    "gloss_count = Counter(gloss_lengths)\n",
    "text_count = Counter(text_lengths)\n",
    "frame_count = Counter(frames)\n",
    "\n",
    "axis[0].bar(gloss_count.keys(), gloss_count.values())\n",
    "axis[0].set_title('Glosses')\n",
    "axis[0].set_xlabel(\"Gloss Length\")\n",
    "axis[0].set_ylabel(\"Count\")\n",
    "\n",
    "axis[1].bar(text_count.keys(), text_count.values())\n",
    "axis[1].set_title('Texts')\n",
    "axis[1].set_xlabel(\"Gloss Length\")\n",
    "axis[1].set_ylabel(\"Count\")\n",
    "\n",
    "axis[2].bar(frame_count.keys(), frame_count.values())\n",
    "axis[2].set_title('Videos')\n",
    "axis[2].set_xlabel(\"Frames\")\n",
    "axis[2].set_ylabel(\"Count\")\n",
    "plt.show()"
   ]
  },
  {
   "cell_type": "markdown",
   "id": "fde43946",
   "metadata": {},
   "source": [
    "Boxplot"
   ]
  },
  {
   "cell_type": "code",
   "execution_count": 20,
   "id": "336cc52b",
   "metadata": {},
   "outputs": [
    {
     "data": {
      "image/png": "[encoded data removed]",
      "text/plain": [
       "<Figure size 1500x500 with 3 Axes>"
      ]
     },
     "metadata": {},
     "output_type": "display_data"
    }
   ],
   "source": [
    "fig, axis = plt.subplots(1, 3, figsize=(15, 5))\n",
    "\n",
    "axis[0].boxplot(gloss_lengths)\n",
    "axis[0].set_title(\"Glosses\")\n",
    "\n",
    "axis[1].boxplot(text_lengths)\n",
    "axis[1].set_title(\"Texts\")\n",
    "\n",
    "axis[2].boxplot(frames)\n",
    "axis[2].set_title(\"Frames\")\n",
    "\n",
    "plt.show()"
   ]
  },
  {
   "cell_type": "markdown",
   "id": "e7bc3016",
   "metadata": {},
   "source": [
    "# Multivariate Analysis"
   ]
  },
  {
   "cell_type": "markdown",
   "id": "551d7f51",
   "metadata": {},
   "source": [
    "Correlation Matrix"
   ]
  },
  {
   "cell_type": "code",
   "execution_count": 18,
   "id": "3bc43bad",
   "metadata": {},
   "outputs": [
    {
     "data": {
      "text/html": [
       "<style type=\"text/css\">\n",
       "#T_73314_row0_col0, #T_73314_row1_col1, #T_73314_row2_col2 {\n",
       "  background-color: #b40426;\n",
       "  color: #f1f1f1;\n",
       "}\n",
       "#T_73314_row0_col1, #T_73314_row1_col0, #T_73314_row1_col2 {\n",
       "  background-color: #3b4cc0;\n",
       "  color: #f1f1f1;\n",
       "}\n",
       "#T_73314_row0_col2 {\n",
       "  background-color: #3f53c6;\n",
       "  color: #f1f1f1;\n",
       "}\n",
       "#T_73314_row2_col0 {\n",
       "  background-color: #a6c4fe;\n",
       "  color: #000000;\n",
       "}\n",
       "#T_73314_row2_col1 {\n",
       "  background-color: #a2c1ff;\n",
       "  color: #000000;\n",
       "}\n",
       "</style>\n",
       "<table id=\"T_73314\">\n",
       "  <thead>\n",
       "    <tr>\n",
       "      <th class=\"blank level0\" >&nbsp;</th>\n",
       "      <th id=\"T_73314_level0_col0\" class=\"col_heading level0 col0\" >gloss_length</th>\n",
       "      <th id=\"T_73314_level0_col1\" class=\"col_heading level0 col1\" >sentence_length</th>\n",
       "      <th id=\"T_73314_level0_col2\" class=\"col_heading level0 col2\" >frames</th>\n",
       "    </tr>\n",
       "  </thead>\n",
       "  <tbody>\n",
       "    <tr>\n",
       "      <th id=\"T_73314_level0_row0\" class=\"row_heading level0 row0\" >gloss_length</th>\n",
       "      <td id=\"T_73314_row0_col0\" class=\"data row0 col0\" >1.000000</td>\n",
       "      <td id=\"T_73314_row0_col1\" class=\"data row0 col1\" >0.789084</td>\n",
       "      <td id=\"T_73314_row0_col2\" class=\"data row0 col2\" >0.856894</td>\n",
       "    </tr>\n",
       "    <tr>\n",
       "      <th id=\"T_73314_level0_row1\" class=\"row_heading level0 row1\" >sentence_length</th>\n",
       "      <td id=\"T_73314_row1_col0\" class=\"data row1 col0\" >0.789084</td>\n",
       "      <td id=\"T_73314_row1_col1\" class=\"data row1 col1\" >1.000000</td>\n",
       "      <td id=\"T_73314_row1_col2\" class=\"data row1 col2\" >0.854542</td>\n",
       "    </tr>\n",
       "    <tr>\n",
       "      <th id=\"T_73314_level0_row2\" class=\"row_heading level0 row2\" >frames</th>\n",
       "      <td id=\"T_73314_row2_col0\" class=\"data row2 col0\" >0.856894</td>\n",
       "      <td id=\"T_73314_row2_col1\" class=\"data row2 col1\" >0.854542</td>\n",
       "      <td id=\"T_73314_row2_col2\" class=\"data row2 col2\" >1.000000</td>\n",
       "    </tr>\n",
       "  </tbody>\n",
       "</table>\n"
      ],
      "text/plain": [
       "<pandas.io.formats.style.Styler at 0x19bf7a9b8c0>"
      ]
     },
     "execution_count": 18,
     "metadata": {},
     "output_type": "execute_result"
    }
   ],
   "source": [
    "corr_df = pd.DataFrame({'gloss_length': gloss_lengths, 'sentence_length': text_lengths, 'frames': frames})\n",
    "corr = corr_df.corr()\n",
    "corr.style.background_gradient(cmap='coolwarm')"
   ]
  }
 ],
 "metadata": {
  "kernelspec": {
   "display_name": ".venv (3.12.8)",
   "language": "python",
   "name": "python3"
  },
  "language_info": {
   "codemirror_mode": {
    "name": "ipython",
    "version": 3
   },
   "file_extension": ".py",
   "mimetype": "text/x-python",
   "name": "python",
   "nbconvert_exporter": "python",
   "pygments_lexer": "ipython3",
   "version": "3.12.8"
  }
 },
 "nbformat": 4,
 "nbformat_minor": 5
}
