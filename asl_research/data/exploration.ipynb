{
 "cells": [
  {
   "cell_type": "markdown",
   "id": "68693dfd",
   "metadata": {},
   "source": [
    "## Import Data"
   ]
  },
  {
   "cell_type": "code",
   "execution_count": 40,
   "id": "369d0c2b",
   "metadata": {},
   "outputs": [],
   "source": [
    "import gzip\n",
    "import os\n",
    "import pickle\n",
    "import pandas as pd\n",
    "import matplotlib.pyplot as plt\n",
    "from collections import Counter"
   ]
  },
  {
   "cell_type": "code",
   "execution_count": 41,
   "id": "532155fb",
   "metadata": {},
   "outputs": [],
   "source": [
    "DATA_PATH = os.path.join(\"data\", \"processed\", \"phoenixweather2014t\")\n",
    "\n",
    "try:\n",
    "    with gzip.open(os.path.join(DATA_PATH, 'phoenix14t.pami0.train.annotations_only.gzip'), \"rb\") as f:\n",
    "        annotations = pickle.load(f)\n",
    "except:\n",
    "    print(\"Error: Invalid path\")"
   ]
  },
  {
   "cell_type": "markdown",
   "id": "ba853f09",
   "metadata": {},
   "source": [
    "### Convert to Pandas DataFrame"
   ]
  },
  {
   "cell_type": "code",
   "execution_count": 43,
   "id": "1310e7c8",
   "metadata": {},
   "outputs": [],
   "source": [
    "VIDEO_PATH = os.path.join(DATA_PATH, \"videos_phoenix\", \"videos\")\n",
    "names = list(\n",
    "    map(\n",
    "        lambda x: os.path.join(VIDEO_PATH, *x.split(\"/\")) + \".mp4\",\n",
    "        [key[\"name\"] for key in annotations],\n",
    "    )\n",
    ")\n",
    "glosses = [key[\"gloss\"] for key in annotations]\n",
    "texts = [key[\"text\"] for key in annotations]\n",
    "\n",
    "data = {\"names\": names, \"glosses\": glosses, \"texts\": texts}\n",
    "\n",
    "df = pd.DataFrame(data)\n"
   ]
  },
  {
   "cell_type": "markdown",
   "id": "4691c70e",
   "metadata": {},
   "source": [
    "## First Five Samples"
   ]
  },
  {
   "cell_type": "code",
   "execution_count": 44,
   "id": "79de20d4",
   "metadata": {},
   "outputs": [
    {
     "name": "stdout",
     "output_type": "stream",
     "text": [
      "                                               names  \\\n",
      "0  data\\processed\\phoenixweather2014t\\videos_phoe...   \n",
      "1  data\\processed\\phoenixweather2014t\\videos_phoe...   \n",
      "2  data\\processed\\phoenixweather2014t\\videos_phoe...   \n",
      "3  data\\processed\\phoenixweather2014t\\videos_phoe...   \n",
      "4  data\\processed\\phoenixweather2014t\\videos_phoe...   \n",
      "\n",
      "                                             glosses  \\\n",
      "0      JETZT WETTER MORGEN DONNERSTAG ZWOELF FEBRUAR   \n",
      "1  ORT REGEN DURCH REGEN KOENNEN UEBERSCHWEMMUNG ...   \n",
      "2  NORDWEST HEUTE NACHT TROCKEN BLEIBEN SUEDWEST ...   \n",
      "3  TAGSUEBER OFT REGEN GEWITTER KOENNEN MANCHMAL ...   \n",
      "4                       WOLKE LOCH SPEZIELL NORDWEST   \n",
      "\n",
      "                                               texts  \n",
      "0  und nun die wettervorhersage für morgen donner...  \n",
      "1  mancherorts regnet es auch länger und ergiebig...  \n",
      "2  im nordwesten bleibt es heute nacht meist troc...  \n",
      "3  auch am tag gibt es verbreitet zum teil kräfti...  \n",
      "4  größere wolkenlücken finden sich vor allem im ...  \n"
     ]
    }
   ],
   "source": [
    "print(df.head(5))"
   ]
  },
  {
   "cell_type": "code",
   "execution_count": 45,
   "id": "201fd253",
   "metadata": {},
   "outputs": [
    {
     "data": {
      "text/html": [
       "<div>\n",
       "<style scoped>\n",
       "    .dataframe tbody tr th:only-of-type {\n",
       "        vertical-align: middle;\n",
       "    }\n",
       "\n",
       "    .dataframe tbody tr th {\n",
       "        vertical-align: top;\n",
       "    }\n",
       "\n",
       "    .dataframe thead th {\n",
       "        text-align: right;\n",
       "    }\n",
       "</style>\n",
       "<table border=\"1\" class=\"dataframe\">\n",
       "  <thead>\n",
       "    <tr style=\"text-align: right;\">\n",
       "      <th></th>\n",
       "      <th>names</th>\n",
       "      <th>glosses</th>\n",
       "      <th>texts</th>\n",
       "    </tr>\n",
       "  </thead>\n",
       "  <tbody>\n",
       "    <tr>\n",
       "      <th>count</th>\n",
       "      <td>7096</td>\n",
       "      <td>7096</td>\n",
       "      <td>7096</td>\n",
       "    </tr>\n",
       "    <tr>\n",
       "      <th>unique</th>\n",
       "      <td>7096</td>\n",
       "      <td>6900</td>\n",
       "      <td>6853</td>\n",
       "    </tr>\n",
       "    <tr>\n",
       "      <th>top</th>\n",
       "      <td>data\\processed\\phoenixweather2014t\\videos_phoe...</td>\n",
       "      <td>SCHOEN ABEND TSCHUESS</td>\n",
       "      <td>guten abend liebe zuschauer .</td>\n",
       "    </tr>\n",
       "    <tr>\n",
       "      <th>freq</th>\n",
       "      <td>1</td>\n",
       "      <td>22</td>\n",
       "      <td>63</td>\n",
       "    </tr>\n",
       "  </tbody>\n",
       "</table>\n",
       "</div>"
      ],
      "text/plain": [
       "                                                    names  \\\n",
       "count                                                7096   \n",
       "unique                                               7096   \n",
       "top     data\\processed\\phoenixweather2014t\\videos_phoe...   \n",
       "freq                                                    1   \n",
       "\n",
       "                      glosses                          texts  \n",
       "count                    7096                           7096  \n",
       "unique                   6900                           6853  \n",
       "top     SCHOEN ABEND TSCHUESS  guten abend liebe zuschauer .  \n",
       "freq                       22                             63  "
      ]
     },
     "execution_count": 45,
     "metadata": {},
     "output_type": "execute_result"
    }
   ],
   "source": [
    "df.describe()"
   ]
  },
  {
   "cell_type": "markdown",
   "id": "a8f39278",
   "metadata": {},
   "source": [
    "## Gloss and Text Univariate Analysis"
   ]
  },
  {
   "cell_type": "code",
   "execution_count": 58,
   "id": "868b9168",
   "metadata": {},
   "outputs": [],
   "source": [
    "gloss_lengths_count = Counter(list(map(lambda x: len(x.split()), list(df['glosses']))))\n",
    "text_lengths_count = Counter(list(map(lambda x: len(x.split()), list(df['texts']))))"
   ]
  },
  {
   "cell_type": "code",
   "execution_count": 82,
   "id": "2c29db8c",
   "metadata": {},
   "outputs": [
    {
     "data": {
      "text/html": [
       "<div>\n",
       "<style scoped>\n",
       "    .dataframe tbody tr th:only-of-type {\n",
       "        vertical-align: middle;\n",
       "    }\n",
       "\n",
       "    .dataframe tbody tr th {\n",
       "        vertical-align: top;\n",
       "    }\n",
       "\n",
       "    .dataframe thead th {\n",
       "        text-align: right;\n",
       "    }\n",
       "</style>\n",
       "<table border=\"1\" class=\"dataframe\">\n",
       "  <thead>\n",
       "    <tr style=\"text-align: right;\">\n",
       "      <th></th>\n",
       "      <th>Text Lengths</th>\n",
       "    </tr>\n",
       "  </thead>\n",
       "  <tbody>\n",
       "    <tr>\n",
       "      <th>count</th>\n",
       "      <td>7096.000000</td>\n",
       "    </tr>\n",
       "    <tr>\n",
       "      <th>mean</th>\n",
       "      <td>14.962937</td>\n",
       "    </tr>\n",
       "    <tr>\n",
       "      <th>std</th>\n",
       "      <td>5.983502</td>\n",
       "    </tr>\n",
       "    <tr>\n",
       "      <th>min</th>\n",
       "      <td>2.000000</td>\n",
       "    </tr>\n",
       "    <tr>\n",
       "      <th>25%</th>\n",
       "      <td>11.000000</td>\n",
       "    </tr>\n",
       "    <tr>\n",
       "      <th>50%</th>\n",
       "      <td>14.000000</td>\n",
       "    </tr>\n",
       "    <tr>\n",
       "      <th>75%</th>\n",
       "      <td>18.000000</td>\n",
       "    </tr>\n",
       "    <tr>\n",
       "      <th>max</th>\n",
       "      <td>53.000000</td>\n",
       "    </tr>\n",
       "  </tbody>\n",
       "</table>\n",
       "</div>"
      ],
      "text/plain": [
       "       Text Lengths\n",
       "count   7096.000000\n",
       "mean      14.962937\n",
       "std        5.983502\n",
       "min        2.000000\n",
       "25%       11.000000\n",
       "50%       14.000000\n",
       "75%       18.000000\n",
       "max       53.000000"
      ]
     },
     "metadata": {},
     "output_type": "display_data"
    },
    {
     "data": {
      "text/html": [
       "<div>\n",
       "<style scoped>\n",
       "    .dataframe tbody tr th:only-of-type {\n",
       "        vertical-align: middle;\n",
       "    }\n",
       "\n",
       "    .dataframe tbody tr th {\n",
       "        vertical-align: top;\n",
       "    }\n",
       "\n",
       "    .dataframe thead th {\n",
       "        text-align: right;\n",
       "    }\n",
       "</style>\n",
       "<table border=\"1\" class=\"dataframe\">\n",
       "  <thead>\n",
       "    <tr style=\"text-align: right;\">\n",
       "      <th></th>\n",
       "      <th>Gloss Lengths</th>\n",
       "    </tr>\n",
       "  </thead>\n",
       "  <tbody>\n",
       "    <tr>\n",
       "      <th>count</th>\n",
       "      <td>7096.000000</td>\n",
       "    </tr>\n",
       "    <tr>\n",
       "      <th>mean</th>\n",
       "      <td>7.785654</td>\n",
       "    </tr>\n",
       "    <tr>\n",
       "      <th>std</th>\n",
       "      <td>3.436425</td>\n",
       "    </tr>\n",
       "    <tr>\n",
       "      <th>min</th>\n",
       "      <td>1.000000</td>\n",
       "    </tr>\n",
       "    <tr>\n",
       "      <th>25%</th>\n",
       "      <td>5.000000</td>\n",
       "    </tr>\n",
       "    <tr>\n",
       "      <th>50%</th>\n",
       "      <td>7.000000</td>\n",
       "    </tr>\n",
       "    <tr>\n",
       "      <th>75%</th>\n",
       "      <td>10.000000</td>\n",
       "    </tr>\n",
       "    <tr>\n",
       "      <th>max</th>\n",
       "      <td>30.000000</td>\n",
       "    </tr>\n",
       "  </tbody>\n",
       "</table>\n",
       "</div>"
      ],
      "text/plain": [
       "       Gloss Lengths\n",
       "count    7096.000000\n",
       "mean        7.785654\n",
       "std         3.436425\n",
       "min         1.000000\n",
       "25%         5.000000\n",
       "50%         7.000000\n",
       "75%        10.000000\n",
       "max        30.000000"
      ]
     },
     "metadata": {},
     "output_type": "display_data"
    }
   ],
   "source": [
    "gloss_counts = pd.DataFrame(list(map(lambda x: len(x.split()), list(df['glosses'])))).rename(columns={0: 'Gloss Lengths'})\n",
    "text_counts = pd.DataFrame(list(map(lambda x: len(x.split()), list(df['texts'])))).rename(columns={0: 'Text Lengths'})\n",
    "\n",
    "\n",
    "display(text_counts.describe(include='all'))\n",
    "display(gloss_counts.describe(include='all'))"
   ]
  },
  {
   "cell_type": "code",
   "execution_count": null,
   "id": "6121d3ee",
   "metadata": {},
   "outputs": [
    {
     "data": {
      "image/png": "[encoded data removed]",
      "text/plain": [
       "<Figure size 1500x500 with 2 Axes>"
      ]
     },
     "metadata": {},
     "output_type": "display_data"
    }
   ],
   "source": [
    "fig, axis = plt.subplots(1, 2, figsize=(15, 5))\n",
    "\n",
    "axis[0].bar(gloss_lengths_count.keys(), gloss_lengths_count.values())\n",
    "axis[0].set_title('Glosses')\n",
    "axis[0].set_xlabel(\"Gloss Length\")\n",
    "axis[0].set_ylabel(\"Count\")\n",
    "\n",
    "axis[1].bar(text_lengths_count.keys(), text_lengths_count.values())\n",
    "axis[1].set_title('Texts')\n",
    "axis[1].set_xlabel(\"Gloss Length\")\n",
    "axis[1].set_ylabel(\"Count\")\n",
    "plt.show()"
   ]
  },
  {
   "cell_type": "code",
   "execution_count": 85,
   "id": "336cc52b",
   "metadata": {},
   "outputs": [
    {
     "data": {
      "image/png": "[encoded data removed]",
      "text/plain": [
       "<Figure size 1500x500 with 2 Axes>"
      ]
     },
     "metadata": {},
     "output_type": "display_data"
    }
   ],
   "source": [
    "fig, axis = plt.subplots(1, 2, figsize=(15, 5))\n",
    "\n",
    "axis[0].boxplot(gloss_lengths_count.keys())\n",
    "axis[0].set_title(\"Glosses\")\n",
    "\n",
    "axis[1].boxplot(text_lengths_count.keys())\n",
    "axis[1].set_title(\"Texts\")\n",
    "\n",
    "plt.show()"
   ]
  }
 ],
 "metadata": {
  "kernelspec": {
   "display_name": ".venv (3.12.8)",
   "language": "python",
   "name": "python3"
  },
  "language_info": {
   "codemirror_mode": {
    "name": "ipython",
    "version": 3
   },
   "file_extension": ".py",
   "mimetype": "text/x-python",
   "name": "python",
   "nbconvert_exporter": "python",
   "pygments_lexer": "ipython3",
   "version": "3.12.8"
  }
 },
 "nbformat": 4,
 "nbformat_minor": 5
}
