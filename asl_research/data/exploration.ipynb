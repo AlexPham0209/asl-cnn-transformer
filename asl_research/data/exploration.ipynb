{
 "cells": [
  {
   "cell_type": "code",
   "execution_count": 2,
   "id": "369d0c2b",
   "metadata": {},
   "outputs": [],
   "source": [
    "import gzip\n",
    "import os\n",
    "import pickle\n",
    "import pandas as pd"
   ]
  },
  {
   "cell_type": "code",
   "execution_count": 4,
   "id": "532155fb",
   "metadata": {},
   "outputs": [],
   "source": [
    "DATA_PATH = os.path.join(\"data\", \"processed\", \"phoenixweather2014t\")\n",
    "\n",
    "try:\n",
    "    with gzip.open(os.path.join(DATA_PATH, 'phoenix14t.pami0.dev.annotations_only.gzip'), \"rb\") as f:\n",
    "        annotations = pickle.load(f)\n",
    "except:\n",
    "    print(\"Error: Invalid path\")"
   ]
  },
  {
   "cell_type": "code",
   "execution_count": 5,
   "id": "1310e7c8",
   "metadata": {},
   "outputs": [],
   "source": [
    "VIDEO_PATH = os.path.join(DATA_PATH, \"videos_phoenix\", \"videos\")\n",
    "names = list(\n",
    "    map(\n",
    "        lambda x: os.path.join(VIDEO_PATH, *x.split(\"/\")) + \".mp4\",\n",
    "        [key[\"name\"] for key in annotations],\n",
    "    )\n",
    ")\n",
    "glosses = [key[\"gloss\"] for key in annotations]\n",
    "texts = [key[\"text\"] for key in annotations]\n",
    "\n",
    "data = {\"names\": names, \"glosses\": glosses, \"texts\": texts}\n",
    "\n",
    "df = pd.DataFrame(data)"
   ]
  },
  {
   "cell_type": "code",
   "execution_count": 6,
   "id": "79de20d4",
   "metadata": {},
   "outputs": [
    {
     "name": "stdout",
     "output_type": "stream",
     "text": [
      "                                               names  \\\n",
      "0  data\\processed\\phoenixweather2014t\\videos_phoe...   \n",
      "1  data\\processed\\phoenixweather2014t\\videos_phoe...   \n",
      "2  data\\processed\\phoenixweather2014t\\videos_phoe...   \n",
      "3  data\\processed\\phoenixweather2014t\\videos_phoe...   \n",
      "4  data\\processed\\phoenixweather2014t\\videos_phoe...   \n",
      "\n",
      "                                             glosses  \\\n",
      "0                                  DRUCK TIEF KOMMEN   \n",
      "1  ES-BEDEUTET VIEL WOLKE UND KOENNEN REGEN GEWIT...   \n",
      "2  WIND MAESSIG SCHWACH REGION WENN GEWITTER WIND...   \n",
      "3  MITTWOCH REGEN KOENNEN NORDWEST WAHRSCHEINLICH...   \n",
      "4  JETZT WETTER WIE-AUSSEHEN MORGEN FREITAG SECHS...   \n",
      "\n",
      "                                               texts  \n",
      "0  tiefer luftdruck bestimmt in den nächsten tage...  \n",
      "1  das bedeutet viele wolken und immer wieder zum...  \n",
      "2  meist weht nur ein schwacher wind aus untersch...  \n",
      "3  am mittwoch hier und da nieselregen in der nor...  \n",
      "4  und nun die wettervorhersage für morgen freita...  \n"
     ]
    }
   ],
   "source": [
    "print(df.head(5))"
   ]
  }
 ],
 "metadata": {
  "kernelspec": {
   "display_name": ".venv (3.12.8)",
   "language": "python",
   "name": "python3"
  },
  "language_info": {
   "codemirror_mode": {
    "name": "ipython",
    "version": 3
   },
   "file_extension": ".py",
   "mimetype": "text/x-python",
   "name": "python",
   "nbconvert_exporter": "python",
   "pygments_lexer": "ipython3",
   "version": "3.12.8"
  }
 },
 "nbformat": 4,
 "nbformat_minor": 5
}
